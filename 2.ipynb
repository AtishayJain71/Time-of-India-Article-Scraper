{
 "cells": [
  {
   "cell_type": "code",
   "execution_count": 1,
   "metadata": {},
   "outputs": [
    {
     "name": "stdout",
     "output_type": "stream",
     "text": [
      "{'title': 'Sandip Ghosh’s many (mis)deeds: Ghost staff, rigged hiring', 'date': 'Date not found', 'content': 'Content not found', 'url': 'https://timesofindia.indiatimes.com/city/kolkata/ghoshs-many-misdeeds-ghost-staff-rigged-hiring/articleshow/113158665.cms'}\n"
     ]
    }
   ],
   "source": [
    "import requests\n",
    "from bs4 import BeautifulSoup\n",
    "\n",
    "# Function to scrape a single news article with error handling\n",
    "def scrape_news_article(url):\n",
    "    response = requests.get(url)\n",
    "    soup = BeautifulSoup(response.content, 'html.parser')\n",
    "\n",
    "    # Adjust these selectors based on the actual website structure\n",
    "    title_tag = soup.find('h1')  # Find title in h1 tag\n",
    "    title = title_tag.text if title_tag else 'Title not found'\n",
    "\n",
    "    date_tag = soup.find('span', class_='date')  # Find date in span tag with class 'date'\n",
    "    date = date_tag.text if date_tag else 'Date not found'\n",
    "\n",
    "    content_tag = soup.find('div', class_='article-content')  # Find content in div with class 'article-content'\n",
    "    content = content_tag.text if content_tag else 'Content not found'\n",
    "\n",
    "    return {'title': title, 'date': date, 'content': content, 'url': url}\n",
    "\n",
    "# Test scraping a real article\n",
    "article_url = 'https://timesofindia.indiatimes.com/city/kolkata/ghoshs-many-misdeeds-ghost-staff-rigged-hiring/articleshow/113158665.cms'\n",
    "news_data = scrape_news_article(article_url)\n",
    "print(news_data)\n"
   ]
  },
  {
   "cell_type": "code",
   "execution_count": 2,
   "metadata": {},
   "outputs": [],
   "source": [
    "\n",
    "import pandas as pd\n",
    "\n",
    "# Function to save data to CSV\n",
    "def save_to_csv(news_list, filename='news_articles.csv'):\n",
    "    df = pd.DataFrame(news_list)\n",
    "    df.to_csv(filename, index=False)\n",
    "\n",
    "# Example of saving a list of scraped articles\n",
    "news_articles = [scrape_news_article(article_url)]\n",
    "save_to_csv(news_articles)"
   ]
  }
 ],
 "metadata": {
  "kernelspec": {
   "display_name": "Python 3",
   "language": "python",
   "name": "python3"
  },
  "language_info": {
   "codemirror_mode": {
    "name": "ipython",
    "version": 3
   },
   "file_extension": ".py",
   "mimetype": "text/x-python",
   "name": "python",
   "nbconvert_exporter": "python",
   "pygments_lexer": "ipython3",
   "version": "3.10.11"
  }
 },
 "nbformat": 4,
 "nbformat_minor": 2
}
